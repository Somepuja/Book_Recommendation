{
 "cells": [
  {
   "cell_type": "markdown",
   "metadata": {},
   "source": [
    "Exploratory Data Analysis on Online Course Enrollment Data"
   ]
  },
  {
   "cell_type": "markdown",
   "metadata": {},
   "source": []
  },
  {
   "cell_type": "markdown",
   "metadata": {},
   "source": [
    "Objectives\n",
    "- Identify keywords in course titles using a WordCloud\n",
    "- Calculate the summary statistics and visualizations of the online course content dataset.\n",
    "- Determine popular course genres\n",
    "- Claculate summary statistics and create visualizations of the online course enrollment dataset.\n",
    "- Identify courses with the greatest number of enrolled students."
   ]
  },
  {
   "cell_type": "code",
   "execution_count": null,
   "metadata": {},
   "outputs": [],
   "source": [
    "#pip install seaborn\n",
    "# pip install wordcloud"
   ]
  },
  {
   "cell_type": "code",
   "execution_count": null,
   "metadata": {},
   "outputs": [],
   "source": [
    "import pandas as pd\n",
    "import numpy as np\n",
    "import matplotlib.pyplot as plt\n",
    "import seaborn as sns\n",
    "from wordcloud import WordCloud, STOPWORDS, ImageColorGenerator\n",
    "\n",
    "%matplotlib inline   # only draw static images in the notebook"
   ]
  },
  {
   "cell_type": "code",
   "execution_count": null,
   "metadata": {},
   "outputs": [],
   "source": [
    "# set a random state\n",
    "rs = 123"
   ]
  },
  {
   "cell_type": "code",
   "execution_count": null,
   "metadata": {},
   "outputs": [],
   "source": [
    "# load dataset\n",
    "course_genre_url = \"https://cf-courses-data.s3.us.cloud-object-storage.appdomain.cloud/IBM-ML321EN-SkillsNetwork/labs/datasets/course_genre.csv\"\n",
    "ratings_url = \"https://cf-courses-data.s3.us.cloud-object-storage.appdomain.cloud/IBM-ML321EN-SkillsNetwork/labs/datasets/ratings.csv\"\n",
    "\n",
    "course_df = pd.read_csv(course_genre_url)\n",
    "ratings_df = pd.read_csv(ratings_url)"
   ]
  },
  {
   "cell_type": "markdown",
   "metadata": {},
   "source": [
    "exploring course genre dataset"
   ]
  },
  {
   "cell_type": "code",
   "execution_count": null,
   "metadata": {},
   "outputs": [],
   "source": [
    "course_df.shape "
   ]
  },
  {
   "cell_type": "code",
   "execution_count": null,
   "metadata": {},
   "outputs": [],
   "source": [
    "# Number of unique courses\n",
    "course_df['COURSE_ID'].nunique()"
   ]
  },
  {
   "cell_type": "code",
   "execution_count": null,
   "metadata": {},
   "outputs": [],
   "source": [
    "course_df.columns "
   ]
  },
  {
   "cell_type": "code",
   "execution_count": null,
   "metadata": {},
   "outputs": [],
   "source": [
    "course_df.head()"
   ]
  },
  {
   "cell_type": "code",
   "execution_count": null,
   "metadata": {},
   "outputs": [],
   "source": [
    "course_df.dtypes\n",
    "\n",
    "# COURSE_ID and TITLE are str datatypes and \n",
    "# all the course genres are binary/int datatypes\n",
    "# Any genre column with value 1 means the course is associated \n",
    "# with the course genre \n",
    "# while 0 means the course is not."
   ]
  },
  {
   "cell_type": "code",
   "execution_count": null,
   "metadata": {},
   "outputs": [],
   "source": [
    "course_df.iloc[1, ]\n",
    "# course 'accelerating deep learning with gpu' is associated with \n",
    "# genres Python, MachineLearning, and DataScience"
   ]
  },
  {
   "cell_type": "markdown",
   "metadata": {},
   "source": [
    "# Creating wordcloud from course titles"
   ]
  },
  {
   "cell_type": "code",
   "execution_count": null,
   "metadata": {},
   "outputs": [],
   "source": [
    "# join all the title values into one string\n",
    "titles = \" \".join(title for title in course_df['TITLE'].astype(str))\n",
    "\n",
    "# filter common stop words and some less meaningful words\n",
    "stopwords = set(STOPWORDS)\n",
    "stopwords.update([\"getting started\", \"using\", \"enabling\", \n",
    "                  \"template\", \"university\", \"end\", \n",
    "                  \"introduction\", \"basic\"])\n",
    "\n",
    "# Create a ```WordCloud``` object and \n",
    "# generate ```wordcloud``` from the titles.\n",
    "wordcloud = WordCloud(stopwords=stopwords, background_color=\"white\", width=800, height=400)\n",
    "wordcloud.generate(titles)\n",
    "\n",
    "# Visualize the generated wordcloud\n",
    "plt.axis(\"off\")\n",
    "plt.figure(figsize=(40,20))\n",
    "plt.tight_layout(pad=0)\n",
    "plt.imshow(wordcloud, interpolation='bilinear')\n",
    "plt.show()\n"
   ]
  },
  {
   "cell_type": "markdown",
   "metadata": {},
   "source": [
    "# Analys=ze course genre"
   ]
  },
  {
   "cell_type": "code",
   "execution_count": null,
   "metadata": {},
   "outputs": [],
   "source": [
    "# all courses with genre MachineLearning == 1\n",
    "course_df.query('MachineLearning==1')\n",
    "\n",
    "# all courses with genres MachineLearning == 1 and BigData == 1\n",
    "course_df.query('MachineLearning==1 and BigData==1')"
   ]
  },
  {
   "cell_type": "code",
   "execution_count": null,
   "metadata": {},
   "outputs": [],
   "source": [
    "# genreate a sorted course count per genre\n",
    "genres = course_df.columns[2:]\n",
    "genre_sums = course_df[genres].sum(axis=0)\n",
    "genre_count = pd.DataFrame(genre_sums, columns = ['Count']).sort_values(by = \"Count\", ascending=False)\n",
    "genre_count"
   ]
  },
  {
   "cell_type": "code",
   "execution_count": null,
   "metadata": {},
   "outputs": [],
   "source": [
    "# plot course genre counts using a barchart. \n",
    "# The x-axis is the course genre and \n",
    "# the y-axis is the course count per genre.\n",
    "fig, ax = plt.subplots(figsize=(8,4))\n",
    "# x and y are lists\n",
    "sns.barplot(x=genre_count.index, y=genre_count['Count'], color='goldenrod', ax=ax, label=\"Course Genre Counts\")\n",
    "ax.set_xlabel(\"Course Genre\")\n",
    "plt.xticks(rotation=90)\n",
    "ax.set_ylabel(\"Count\")\n",
    "ax.legend()\n",
    "plt.show()"
   ]
  },
  {
   "cell_type": "markdown",
   "metadata": {},
   "source": [
    "# Analyze course enrollement"
   ]
  },
  {
   "cell_type": "markdown",
   "metadata": {},
   "source": [
    "This dataset contains three colums, `user` representing a unique user id, `item` representing a course id, and `rating` representing a course enrollment mode.\n",
    "In an online learning scenario, we have learners or students as users who enrolled courses. In fact, to follow the standard recommender system naming convention, we call each learner as a `user`, each course an `item`, and the enrollment mode or interaction as `rating`. So that's why we have columns named `user`, `item`, and `rating` instead of using `learner`, `course`, and `enrollment`.\n",
    "\n",
    "In this project, we may use these terms interchangeably.\n"
   ]
  },
  {
   "cell_type": "code",
   "execution_count": null,
   "metadata": {},
   "outputs": [],
   "source": [
    "ratings_df.head()"
   ]
  },
  {
   "cell_type": "code",
   "execution_count": null,
   "metadata": {},
   "outputs": [],
   "source": [
    "# The rating column contains one of two values: \n",
    "# `2` means the user just audited the course without completing it and \n",
    "#`3` means the user completed the course and earned a certificate.\n",
    "# Two other possible values are not explicitly available in this project:\n",
    "# `0` or `NA` means the user has no interaction with the course and \n",
    "# `1` means the user just browsed the course.\n",
    "ratings_df['rating'].unique()\n"
   ]
  },
  {
   "cell_type": "code",
   "execution_count": null,
   "metadata": {},
   "outputs": [],
   "source": [
    "ratings_df.shape"
   ]
  },
  {
   "cell_type": "code",
   "execution_count": null,
   "metadata": {},
   "outputs": [],
   "source": [
    "# Number of ratings per user\n",
    "user_rating_count = ratings_df.groupby(['user']).agg({'rating':'count'}).rename(columns={'rating':'num_rating'}).sort_values(by='num_rating',ascending=False)\n",
    "user_rating_count.head()"
   ]
  },
  {
   "cell_type": "code",
   "execution_count": null,
   "metadata": {},
   "outputs": [],
   "source": [
    "# statistics summary of the user enrollments.\n",
    "user_rating_count.describe()"
   ]
  },
  {
   "cell_type": "code",
   "execution_count": null,
   "metadata": {},
   "outputs": [],
   "source": [
    "# Plot the histogram of user rating counts.\n",
    "user_rating_count.hist()"
   ]
  },
  {
   "cell_type": "markdown",
   "metadata": {},
   "source": [
    "# Find the Top-20 Most Popular Courses"
   ]
  },
  {
   "cell_type": "code",
   "execution_count": null,
   "metadata": {},
   "outputs": [],
   "source": [
    "courses_rating_count = ratings_df.groupby(['item']).agg({'rating':'count'}).rename(columns={'item':'courses','rating':'num_rating'}).sort_values(by='num_rating',ascending=False).head(20)\n",
    "courses_rating_count\n",
    "\n",
    "# join the course titles in the course_df \n",
    "# so that we can identify what are the most popular courses\n",
    "top_courses = courses_rating_count.merge(course_df[['COURSE_ID','TITLE']], how='left',left_on='item', right_on='COURSE_ID')[['TITLE','num_rating']]\n",
    "top_courses\n",
    "\n"
   ]
  },
  {
   "cell_type": "code",
   "execution_count": null,
   "metadata": {},
   "outputs": [],
   "source": [
    "# Get the percentage of the top-20 course enrollments\n",
    "total = ratings_df.shape[0]\n",
    "top_pct = (top_courses['num_rating'].sum()/total)*100\n",
    "print(f\"Percentage of the top course enrollments {round(top_pct, 2)}%\")"
   ]
  },
  {
   "cell_type": "code",
   "execution_count": null,
   "metadata": {},
   "outputs": [],
   "source": []
  }
 ],
 "metadata": {
  "kernelspec": {
   "display_name": ".venv",
   "language": "python",
   "name": "python3"
  },
  "language_info": {
   "name": "python",
   "version": "3.10.11"
  }
 },
 "nbformat": 4,
 "nbformat_minor": 2
}
