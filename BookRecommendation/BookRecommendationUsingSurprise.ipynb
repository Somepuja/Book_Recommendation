{
 "cells": [
  {
   "cell_type": "markdown",
   "metadata": {},
   "source": [
    "Surprise is a scikit, a software library built as an add-on to the numerical computation library Scipy. Surprise makes developing and testing easy for various recommender system algorithms. Surprise comes with various modules that make it easy to transform data, train recommender systems, and measure recommender system performance. It also comes with a solid base of documentation that makes it easy to understand and explore the library's capabilities."
   ]
  },
  {
   "cell_type": "code",
   "execution_count": 1,
   "metadata": {},
   "outputs": [],
   "source": [
    "import surprise"
   ]
  },
  {
   "cell_type": "markdown",
   "metadata": {},
   "source": [
    "AIM : To build a recommender system that suggests movies to users based on the ratings they gave to several movies."
   ]
  },
  {
   "cell_type": "code",
   "execution_count": 2,
   "metadata": {},
   "outputs": [
    {
     "name": "stdout",
     "output_type": "stream",
     "text": [
      "Dataset ml-100k could not be found. Do you want to download it? [Y/n] "
     ]
    }
   ],
   "source": [
    "# Loading MovieLens Dataset \n",
    "# It contains a set of \n",
    "# 100,000 movie ratings \n",
    "# for 9,000 movies \n",
    "# provided by 600 users.\n",
    "# ratings of this dataset comes from website movielens.org\n",
    "\n",
    "from surprise import Dataset\n",
    "movie_data = Dataset.load_builtin('ml-100k')"
   ]
  },
  {
   "cell_type": "code",
   "execution_count": null,
   "metadata": {},
   "outputs": [],
   "source": [
    "# Train/Test Split of Data\n",
    "from surprise.model_selection import train_test_split\n",
    "trainset, testset = train_test_split(movie_data, \n",
    "                                     test_size=0.2,\n",
    "                                     random_state=42)"
   ]
  },
  {
   "cell_type": "code",
   "execution_count": null,
   "metadata": {},
   "outputs": [],
   "source": [
    "# Training a recommender system using KNNBasic\n",
    "from surprise import KNNBasic\n",
    "\n",
    "KNN_movie_recommender = KNNBasic()\n",
    "KNN_movie_recommender.fit(trainset)\n",
    "\n",
    "# Training a recommender system using SVD\n",
    "from surprise import SVD\n",
    "\n",
    "SVD_movie_recommender = SVD()\n",
    "SVD_movie_recommender.fit(trainset)"
   ]
  },
  {
   "cell_type": "code",
   "execution_count": null,
   "metadata": {},
   "outputs": [],
   "source": [
    "# predictions\n",
    "\n",
    "# prediction by KNNBasic\n",
    "KNN_predictions = KNN_movie_recommender.test(testset)\n",
    "KNN_predictions[0]\n",
    "\n",
    "# prediction by SVD\n",
    "SVD_predictions = SVD_movie_recommender.test(testset)\n",
    "SVD_predictions[0]"
   ]
  },
  {
   "cell_type": "code",
   "execution_count": null,
   "metadata": {},
   "outputs": [],
   "source": [
    "# Evaluating Recommender System Performance\n",
    "from surprise import accuracy\n",
    "\n",
    "# accuracy by KNNBasic model\n",
    "KNN_test_accuracy = accuracy.rmse(KNN_predictions)\n",
    "print(f\"accuracy on test set using KNNBasic : {KNN_test_accuracy}\")\n",
    "\n",
    "# accuracy by SVD model \n",
    "SVD_test_accuracy = accuracy.rmse(SVD_predictions)\n",
    "print(f\"accuracy on test set using SVD : {SVD_test_accuracy}\")"
   ]
  }
 ],
 "metadata": {
  "kernelspec": {
   "display_name": "venv",
   "language": "python",
   "name": "python3"
  },
  "language_info": {
   "codemirror_mode": {
    "name": "ipython",
    "version": 3
   },
   "file_extension": ".py",
   "mimetype": "text/x-python",
   "name": "python",
   "nbconvert_exporter": "python",
   "pygments_lexer": "ipython3",
   "version": "3.10.11"
  }
 },
 "nbformat": 4,
 "nbformat_minor": 2
}
